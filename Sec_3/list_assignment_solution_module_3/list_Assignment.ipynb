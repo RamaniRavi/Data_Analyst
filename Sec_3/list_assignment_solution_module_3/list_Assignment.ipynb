{
 "cells": [
  {
   "cell_type": "markdown",
   "metadata": {},
   "source": [
    "# Module 3: Data Structures Assignments\n",
    "## Lesson 3.1: Lists\n",
    "### Assignment 1: Creating and Accessing Lists\n",
    "\n",
    "Create a list of the first 20 positive integers. Print the list.\n",
    "\n",
    "### Assignment 2: Accessing List Elements\n",
    "\n",
    "Print the first, middle, and last elements of the list created in Assignment 1.\n",
    "\n",
    "### Assignment 3: List Slicing\n",
    "\n",
    "Print the first five elements, the last five elements, and the elements from index 5 to 15 of the list created in Assignment 1.\n",
    "\n",
    "### Assignment 4: List Comprehensions\n",
    "\n",
    "Create a new list containing the squares of the first 10 positive integers using a list comprehension. Print the new list.\n",
    "\n",
    "### Assignment 5: Filtering Lists\n",
    "\n",
    "Create a new list containing only the even numbers from the list created in Assignment 1 using a list comprehension. Print the new list.\n",
    "\n",
    "### Assignment 6: List Methods\n",
    "\n",
    "Create a list of random numbers and sort it in ascending and descending order. Remove the duplicates from the list and print the modified list.\n",
    "\n",
    "### Assignment 7: Nested Lists\n",
    "\n",
    "Create a nested list representing a 3x3 matrix and print the matrix. Access and print the element at the second row and third column.\n",
    "\n",
    "### Assignment 8: List of Dictionaries\n",
    "\n",
    "Create a list of dictionaries where each dictionary represents a student with keys 'name' and 'score'. Sort the list of dictionaries by the 'score' in descending order and print the sorted list.\n",
    "\n",
    "### Assignment 9: Matrix Transposition\n",
    "\n",
    "Write a function that takes a 3x3 matrix (nested list) as input and returns its transpose. Print the original and transposed matrices.\n",
    "\n",
    "### Assignment 10: Flattening a Nested List\n",
    "\n",
    "Write a function that takes a nested list and flattens it into a single list. Print the original and flattened lists.\n",
    "\n",
    "### Assignment 11: List Manipulation\n",
    "\n",
    "Create a list of the first 10 positive integers. Remove the elements at indices 2, 4, and 6, and insert the element '99' at index 5. Print the modified list.\n",
    "\n",
    "### Assignment 12: List Zipping\n",
    "\n",
    "Create two lists of the same length. Use the `zip` function to combine these lists into a list of tuples and print the result.\n",
    "\n",
    "### Assignment 13: List Reversal\n",
    "\n",
    "Write a function that takes a list and returns a new list with the elements in reverse order. Print the original and reversed lists.\n",
    "\n",
    "### Assignment 14: List Rotation\n",
    "\n",
    "Write a function that rotates a list by n positions. Print the original and rotated lists.\n",
    "\n",
    "### Assignment 15: List Intersection\n",
    "\n",
    "Write a function that takes two lists and returns a new list containing only the elements that are present in both lists. Print the intersected list."
   ]
  },
  {
   "cell_type": "code",
   "execution_count": 3,
   "metadata": {},
   "outputs": [
    {
     "name": "stdout",
     "output_type": "stream",
     "text": [
      "[1, 2, 3, 4, 5, 6, 7, 8, 9, 10, 11, 12, 13, 14, 15, 16, 17, 18, 19, 20]\n",
      "[1, 2, 3, 4, 5, 6, 7, 8, 9, 10, 11, 12, 13, 14, 15, 16, 17, 18, 19, 20]\n"
     ]
    }
   ],
   "source": [
    "### Assignment 1: Creating and Accessing Lists\n",
    "\n",
    "##Create a list of the first 20 positive integers. Print the list.\n",
    "\n",
    "list1 = list(range(1,21))\n",
    "\n",
    "# for i in range(1, 21):\n",
    "#     list1.append(i)\n",
    "\n",
    "print(list1)\n",
    "\n",
    "#ist1.sort()\n",
    "print(list1)"
   ]
  },
  {
   "cell_type": "code",
   "execution_count": 4,
   "id": "211e1290",
   "metadata": {},
   "outputs": [
    {
     "name": "stdout",
     "output_type": "stream",
     "text": [
      "1\n",
      "11\n",
      "20\n"
     ]
    }
   ],
   "source": [
    "### Assignment 2: Accessing List Elements\n",
    "\n",
    "##Print the first, middle, and last elements of the list created in Assignment 1.\n",
    "\n",
    "print(list1[0])\n",
    "print(list1[len(list1) // 2 ])\n",
    "print(list1[-1])\n"
   ]
  },
  {
   "cell_type": "code",
   "execution_count": 5,
   "id": "23625919",
   "metadata": {},
   "outputs": [
    {
     "name": "stdout",
     "output_type": "stream",
     "text": [
      "[1, 2, 3, 4, 5]\n",
      "[16, 17, 18, 19, 20]\n",
      "[6, 7, 8, 9, 10, 11, 12, 13, 14, 15, 16]\n"
     ]
    }
   ],
   "source": [
    "### Assignment 3: List Slicing\n",
    "\n",
    "##Print the first five elements, the last five elements, and the elements from index 5 to 15 of the list created in Assignment 1.\n",
    "\n",
    "print(list1[:5])\n",
    "print(list1[-5:])\n",
    "print(list1[5:16])"
   ]
  },
  {
   "cell_type": "code",
   "execution_count": 6,
   "id": "5b4d56b2",
   "metadata": {},
   "outputs": [
    {
     "name": "stdout",
     "output_type": "stream",
     "text": [
      "[1, 4, 9, 16, 25, 36, 49, 64, 81, 100]\n"
     ]
    }
   ],
   "source": [
    "### Assignment 4: List Comprehensions\n",
    "\n",
    "##Create a new list containing the squares of the first 10 positive integers using a list comprehension. Print the new list.\n",
    "lis2 = [num**2 for num in range(1,11)]\n",
    "print(lis2)"
   ]
  },
  {
   "cell_type": "code",
   "execution_count": 7,
   "id": "007f0e3a",
   "metadata": {},
   "outputs": [
    {
     "name": "stdout",
     "output_type": "stream",
     "text": [
      "[2, 4, 6, 8, 10, 12, 14, 16, 18, 20]\n"
     ]
    }
   ],
   "source": [
    "### Assignment 5: Filtering Lists\n",
    "\n",
    "# Create a new list containing only the even numbers from the list created in Assignment 1 using a list comprehension. Print the new list.\n",
    "lis3 = [num for num in list1 if num%2==0]\n",
    "print(lis3)"
   ]
  },
  {
   "cell_type": "code",
   "execution_count": 9,
   "id": "66054116",
   "metadata": {},
   "outputs": [
    {
     "name": "stdout",
     "output_type": "stream",
     "text": [
      "[20, 6, 18, 14, 2, 9, 14, 20, 9, 4, 14, 12, 8, 19, 15, 7, 5, 4, 15, 12]\n",
      "[2, 4, 4, 5, 6, 7, 8, 9, 9, 12, 12, 14, 14, 14, 15, 15, 18, 19, 20, 20]\n",
      "[20, 20, 19, 18, 15, 15, 14, 14, 14, 12, 12, 9, 9, 8, 7, 6, 5, 4, 4, 2]\n",
      "[2, 4, 5, 6, 7, 8, 9, 12, 14, 15, 18, 19, 20]\n"
     ]
    }
   ],
   "source": [
    "### Assignment 6: List Methods\n",
    "\n",
    "# Create a list of random numbers and sort it in ascending and descending order. Remove the duplicates from the list and print the modified list.\n",
    "import random\n",
    "lis4 = [random.randint(1,21) for num in range(1,21)]\n",
    "\n",
    "print(lis4)\n",
    "\n",
    "sort_ascending= sorted(lis4)\n",
    "print(sort_ascending)\n",
    "\n",
    "print(sorted(lis4, reverse=True))\n",
    "\n",
    "print(list(set(lis4)))"
   ]
  },
  {
   "cell_type": "code",
   "execution_count": 11,
   "id": "16ffe3c4",
   "metadata": {},
   "outputs": [
    {
     "name": "stdout",
     "output_type": "stream",
     "text": [
      "[[1, 2, 3], [4, 5, 6], [7, 8, 9]]\n",
      "6\n"
     ]
    }
   ],
   "source": [
    "### Assignment 7: Nested Lists\n",
    "\n",
    "# Create a nested list representing a 3x3 matrix and print the matrix. Access and print the element at the second row and third column.\n",
    "matrix = [[1,2,3], [4,5,6], [7,8,9]]\n",
    "\n",
    "print(matrix)\n",
    "print(matrix[1][2])"
   ]
  },
  {
   "cell_type": "code",
   "execution_count": 14,
   "id": "fe142b14",
   "metadata": {},
   "outputs": [
    {
     "name": "stdout",
     "output_type": "stream",
     "text": [
      "[{'name': 'Aushik', 'score': '60'}, {'name': 'Ravi', 'score': '80'}, {'name': 'Raj', 'score': '90'}]\n"
     ]
    }
   ],
   "source": [
    "### Assignment 8: List of Dictionaries\n",
    "\n",
    "# Create a list of dictionaries where each dictionary represents a \n",
    "# student with keys 'name' and 'score'. Sort the list of dictionaries \n",
    "# by the 'score' in descending order and print the sorted list.\n",
    "\n",
    "\n",
    "list1 = [\n",
    "    {'name': 'Ravi', 'score': '80'},\n",
    "    {'name': 'Aushik', 'score': '60'},\n",
    "    {'name': 'Raj', 'score': '90'},\n",
    "]\n",
    "\n",
    "list5 = sorted(list1, key=lambda x: x['score'], reverse=True)\n",
    "print(list5)\n"
   ]
  },
  {
   "cell_type": "code",
   "execution_count": 32,
   "id": "594f8c3c",
   "metadata": {},
   "outputs": [
    {
     "name": "stdout",
     "output_type": "stream",
     "text": [
      "[1, 4, 7]\n",
      "[2, 5, 8]\n",
      "[3, 6, 9]\n",
      "[[1, 4, 7], [2, 5, 8], [3, 6, 9]]\n"
     ]
    }
   ],
   "source": [
    "### Assignment 9: Matrix Transposition\n",
    "\n",
    "# Write a function that takes a 3x3 matrix (nested list) as input and \n",
    "# returns its transpose. Print the original and transposed matrices.\n",
    "\n",
    "matrix = [\n",
    "    [1,2,3], \n",
    "    [4,5,6], \n",
    "    [7,8,9]\n",
    "]\n",
    "\n",
    "result = [\n",
    "    [0,0,0],\n",
    "    [0,0,0],\n",
    "    [0,0,0]\n",
    "]\n",
    "\n",
    "# solution 1\n",
    "# def transposed_matric(matrix):\n",
    "#     for i in range(len(matrix)):\n",
    "#         for j in range(len(matrix[0])):\n",
    "#             result[j][i] = matrix[i][j]\n",
    "\n",
    "#solution 2\n",
    "def transposed_matric(matrix):\n",
    "    result1 = [[matrix[j][i] for j in range(len(matrix))] for i in range(len(matrix[0]))]\n",
    "    return result1\n",
    "\n",
    "transposed_matric(matrix)\n",
    "for row in result: \n",
    "    print(row)\n",
    "\n"
   ]
  },
  {
   "cell_type": "code",
   "execution_count": 49,
   "id": "dcf60511",
   "metadata": {},
   "outputs": [
    {
     "name": "stdout",
     "output_type": "stream",
     "text": [
      "[[1, 2, 3], [4], [7, 8]]\n",
      "[1, 2, 3, 4, 7, 8]\n",
      "[1, 2, 3, 4, 7, 8]\n"
     ]
    }
   ],
   "source": [
    "### Assignment 10: Flattening a Nested List\n",
    "\n",
    "# Write a function that takes a nested list and flattens it into a single list.\n",
    "#  Print the original and flattened lists.\n",
    "\n",
    "\n",
    "matrix = [\n",
    "    [1,2,3], \n",
    "    [4], \n",
    "    [7,8]\n",
    "]\n",
    "print(matrix)\n",
    "\n",
    "# solution 1\n",
    "def flattens_list(matrix):\n",
    "    flattens_list = [matrix[i][j] for i in range(len(matrix)) for j in range(len(matrix[i]))]\n",
    "    return flattens_list\n",
    "\n",
    "print(flattens_list(matrix))\n",
    "\n",
    "# solution 2\n",
    "# result = []\n",
    "# for i in range(len(matrix)):\n",
    "#     for j in range(len(matrix[i])):\n",
    "#         result.append(matrix[i][j])\n",
    "\n",
    "# print(result)"
   ]
  },
  {
   "cell_type": "code",
   "execution_count": 57,
   "id": "61ae86c7",
   "metadata": {},
   "outputs": [
    {
     "name": "stdout",
     "output_type": "stream",
     "text": [
      "[1, 3, 5, 7, 8, 99, 10]\n"
     ]
    }
   ],
   "source": [
    "### Assignment 11: List Manipulation\n",
    "\n",
    "# Create a list of the first 10 positive integers. Remove the elements at indices 2, 4, and 6, \n",
    "# and insert the element '99' at index 5. Print the modified list.\n",
    "\n",
    "\n",
    "positive_integers = list(range(1,11)) #[num for num in range(1,11)]\n",
    "\n",
    "# solution 1 \n",
    "# positive_integers.remove(2)\n",
    "# positive_integers.remove(4)\n",
    "# positive_integers.remove(6)\n",
    "\n",
    "# positive_integers[5] = 99\n",
    "# print(positive_integers)\n",
    "\n",
    "# solution 2\n",
    "print(positive_integers)\n",
    "\n",
    "del positive_integers[2]\n",
    "print(positive_integers)\n",
    "\n",
    "del positive_integers[4]\n",
    "print(positive_integers)\n",
    "\n",
    "del positive_integers[6]\n",
    "print(positive_integers)\n",
    "\n",
    "positive_integers.insert(5, 99)\n",
    "print(positive_integers)\n"
   ]
  },
  {
   "cell_type": "code",
   "execution_count": 69,
   "id": "ee713598",
   "metadata": {},
   "outputs": [
    {
     "name": "stdout",
     "output_type": "stream",
     "text": [
      "[1, 2, 3, 4, 5, 6, 7, 8, 9, 10]\n",
      "[11, 12, 13, 14, 15, 16, 17, 18, 19, 20]\n",
      "[(1, 11), (2, 12), (3, 13), (4, 14), (5, 15), (6, 16), (7, 17), (8, 18), (9, 19), (10, 20)]\n"
     ]
    }
   ],
   "source": [
    "### Assignment 12: List Zipping\n",
    "\n",
    "# Create two lists of the same length. Use the `zip` function to combine these \n",
    "# lists into a list of tuples and print the result.\n",
    "\n",
    "list_1 = list(range(1,11))\n",
    "list_2 = list(range(11,21))\n",
    "\n",
    "print(list_1)\n",
    "print(list_2)\n",
    "\n",
    "# tuple_result = (list_1, list_2)\n",
    "tuple_result = list(zip(list_1, list_2))\n",
    "print(tuple_result)\n"
   ]
  },
  {
   "cell_type": "code",
   "execution_count": 78,
   "id": "eed117ff",
   "metadata": {},
   "outputs": [
    {
     "name": "stdout",
     "output_type": "stream",
     "text": [
      "[1, 2, 3, 4, 5, 6, 7, 8, 9, 10]\n",
      "[10, 9, 8, 7, 6, 5, 4, 3, 2, 1]\n"
     ]
    }
   ],
   "source": [
    "### Assignment 13: List Reversal\n",
    "\n",
    "# Write a function that takes a list and returns a new list with the elements \n",
    "# in reverse order. Print the original and reversed lists.\n",
    "import random\n",
    "original_list = [1, 2, 3, 4, 5, 6, 7, 8, 9, 10] #[random.randint(1,11) for _ in range(1,11)] \n",
    "print(original_list)\n",
    "\n",
    "def reversed_list(list_original):\n",
    "    return list_original[::-1]#sorted(list_original, reverse=True)\n",
    "\n",
    "print(reversed_list(original_list))\n"
   ]
  },
  {
   "cell_type": "code",
   "execution_count": 86,
   "id": "9ad63453",
   "metadata": {},
   "outputs": [
    {
     "name": "stdout",
     "output_type": "stream",
     "text": [
      "[1, 2, 3, 4, 5, 6, 7, 8, 9, 10]\n",
      "3\n",
      "[4, 5, 6, 7, 8, 9, 10, 1, 2, 3]\n"
     ]
    }
   ],
   "source": [
    "### Assignment 14: List Rotation\n",
    "\n",
    "# Write a function that rotates a list by n positions. Print the original and rotated lists.\n",
    "original_list = [1, 2, 3, 4, 5, 6, 7, 8, 9, 10]\n",
    "print(original_list)\n",
    "\n",
    "n = int(input())\n",
    "print(n)\n",
    "\n",
    "# solution 1\n",
    "# def list_rotation(lst: list):\n",
    "#     for _ in range(n):\n",
    "#         j = lst[0]\n",
    "#         del lst[0]\n",
    "#         lst.append(j)\n",
    "#     return lst\n",
    "\n",
    "# solution 2  -- smart work bro..\n",
    "def list_rotation(lst: list, n: int):\n",
    "    return lst[n:] + lst[:n]\n",
    "\n",
    "print(list_rotation(original_list,n))\n",
    "\n"
   ]
  },
  {
   "cell_type": "code",
   "execution_count": 91,
   "id": "b48c7ab4",
   "metadata": {},
   "outputs": [
    {
     "name": "stdout",
     "output_type": "stream",
     "text": [
      "[2, 4, 3, 11, 10, 9, 6, 6, 8, 8]\n",
      "[8, 6, 9, 11, 4, 2, 6, 1, 7, 3]\n",
      "[2, 4, 3, 11, 9, 6, 6, 8, 8]\n"
     ]
    }
   ],
   "source": [
    "\n",
    "\n",
    "### Assignment 15: List Intersection\n",
    "\n",
    "# Write a function that takes two lists and returns a new list containing only \n",
    "# the elements that are present in both lists. Print the intersected list.\n",
    "\n",
    "import random\n",
    "list_one = [random.randint(1,11) for _ in range(1,11)] \n",
    "list_two = [random.randint(1,11) for _ in range(1,11)] \n",
    "print(list_one)\n",
    "print(list_two)\n",
    "\n",
    "# solution 1\n",
    "# def intersection_list(lst1, lst2):\n",
    "#     result = []\n",
    "#     for i in list_one:\n",
    "#         if i in list_two:\n",
    "#             result.append(i)\n",
    "#     return result\n",
    "\n",
    "# solution 2\n",
    "#  return [x for x in lst1 if x in lst2]\n",
    "\n",
    "#solution 3\n",
    "def intersection_list(lst1, lst2):\n",
    "    result = []\n",
    "    for i in list_one:\n",
    "        if i in list_two:\n",
    "            result.append(i)\n",
    "    return result\n",
    "\n",
    "print(intersection_list(list_one, list_two))"
   ]
  },
  {
   "cell_type": "code",
   "execution_count": null,
   "id": "4214998c",
   "metadata": {},
   "outputs": [],
   "source": []
  }
 ],
 "metadata": {
  "kernelspec": {
   "display_name": "Python 3",
   "language": "python",
   "name": "python3"
  },
  "language_info": {
   "codemirror_mode": {
    "name": "ipython",
    "version": 3
   },
   "file_extension": ".py",
   "mimetype": "text/x-python",
   "name": "python",
   "nbconvert_exporter": "python",
   "pygments_lexer": "ipython3",
   "version": "3.12.0"
  }
 },
 "nbformat": 4,
 "nbformat_minor": 5
}
