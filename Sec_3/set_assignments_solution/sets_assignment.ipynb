{
 "cells": [
  {
   "cell_type": "markdown",
   "metadata": {},
   "source": [
    "# Module 3: Data Structures Assignments\n",
    "## Lesson 3.3: Sets\n",
    "### Assignment 1: Creating and Accessing Sets\n",
    "\n",
    "Create a set with the first 10 positive integers. Print the set.\n",
    "\n",
    "### Assignment 2: Adding and Removing Elements\n",
    "\n",
    "Add the number 11 to the set created in Assignment 1. Then remove the number 1 from the set. Print the modified set.\n",
    "\n",
    "### Assignment 3: Set Operations\n",
    "\n",
    "Create two sets: one with the first 5 positive integers and another with the first 5 even integers. Perform and print the results of union, intersection, difference, and symmetric difference operations on these sets.\n",
    "\n",
    "### Assignment 4: Set Comprehensions\n",
    "\n",
    "Create a new set containing the squares of the first 10 positive integers using a set comprehension. Print the new set.\n",
    "\n",
    "### Assignment 5: Filtering Sets\n",
    "\n",
    "Create a new set containing only the even numbers from the set created in Assignment 1 using a set comprehension. Print the new set.\n",
    "\n",
    "### Assignment 6: Set Methods\n",
    "\n",
    "Create a set with duplicate elements and remove the duplicates using set methods. Print the modified set.\n",
    "\n",
    "### Assignment 7: Subsets and Supersets\n",
    "\n",
    "Create two sets: one with the first 5 positive integers and another with the first 3 positive integers. Check if the second set is a subset of the first set and if the first set is a superset of the second set. Print the results.\n",
    "\n",
    "### Assignment 8: Frozenset\n",
    "\n",
    "Create a frozenset with the first 5 positive integers. Print the frozenset.\n",
    "\n",
    "### Assignment 9: Set and List Conversion\n",
    "\n",
    "Create a set with the first 5 positive integers. Convert it to a list, append the number 6, and convert it back to a set. Print the resulting set.\n",
    "\n",
    "### Assignment 10: Set and Dictionary\n",
    "\n",
    "Create a dictionary with set keys and integer values. Print the dictionary.\n",
    "\n",
    "### Assignment 11: Iterating Over Sets\n",
    "\n",
    "Create a set and iterate over the elements, printing each element.\n",
    "\n",
    "### Assignment 12: Removing Elements from Sets\n",
    "\n",
    "Create a set and remove elements from it until it is empty. Print the set after each removal.\n",
    "\n",
    "### Assignment 13: Set Symmetric Difference Update\n",
    "\n",
    "Create two sets and update the first set with the symmetric difference of the two sets. Print the modified first set.\n",
    "\n",
    "### Assignment 14: Set Membership Testing\n",
    "\n",
    "Create a set and test if certain elements are present in the set. Print the results.\n",
    "\n",
    "### Assignment 15: Set of Tuples\n",
    "\n",
    "Create a set containing tuples, where each tuple contains two elements. Print the set."
   ]
  },
  {
   "cell_type": "code",
   "execution_count": 34,
   "metadata": {},
   "outputs": [
    {
     "name": "stdout",
     "output_type": "stream",
     "text": [
      "{1, 2, 3, 4, 5, 6, 7, 8, 9, 10}\n"
     ]
    }
   ],
   "source": [
    "### Assignment 1: Creating and Accessing Sets\n",
    "\n",
    "# Create a set with the first 10 positive integers. Print the set.\n",
    "\n",
    "s = {1,2,3,4,5,6,7,8,9,10}\n",
    "print(s)"
   ]
  },
  {
   "cell_type": "code",
   "execution_count": 35,
   "id": "1fe41363",
   "metadata": {},
   "outputs": [
    {
     "name": "stdout",
     "output_type": "stream",
     "text": [
      "{1, 2, 3, 4, 5, 6, 7, 8, 9, 10, 11}\n",
      "{2, 3, 4, 5, 6, 7, 8, 9, 10, 11}\n"
     ]
    }
   ],
   "source": [
    "### Assignment 2: Adding and Removing Elements\n",
    "\n",
    "# Add the number 11 to the set created in Assignment 1. \n",
    "# Then remove the number 1 from the set. Print the modified set.\n",
    "s = {1,2,3,4,5,6,7,8,9,10}\n",
    "s.add(11)\n",
    "print(s)\n",
    "s.remove(1)\n",
    "print(s)"
   ]
  },
  {
   "cell_type": "code",
   "execution_count": 37,
   "id": "77d7b003",
   "metadata": {},
   "outputs": [
    {
     "name": "stdout",
     "output_type": "stream",
     "text": [
      "Union: {1, 2, 3, 4, 5, 6, 8, 10}\n",
      "Intersection: {2, 4}\n",
      "Difference (set1 - set2): {1, 3, 5}\n",
      "Symmetric Difference: {1, 3, 5, 6, 8, 10}\n"
     ]
    }
   ],
   "source": [
    "\n",
    "### Assignment 3: Set Operations\n",
    "\n",
    "# Create two sets: one with the first 5 positive integers and another \n",
    "# with the first 5 even integers. Perform and print the results of union, \n",
    "# intersection, difference, and symmetric difference operations on these sets.\n",
    "set1 = {1,2,3,4,5}\n",
    "set2 = {2,4,6,8,10}\n",
    "print(f\"Union: {set1 | set2}\")\n",
    "print(f\"Intersection: {set1 & set2}\")\n",
    "print(f\"Difference (set1 - set2): {set1 - set2}\")\n",
    "print(f\"Symmetric Difference: {set1 ^ set2}\")\n"
   ]
  },
  {
   "cell_type": "code",
   "execution_count": 54,
   "id": "a65de1b7",
   "metadata": {},
   "outputs": [
    {
     "name": "stdout",
     "output_type": "stream",
     "text": [
      "{64, 1, 4, 36, 100, 9, 16, 49, 81, 25}\n"
     ]
    }
   ],
   "source": [
    "### Assignment 4: Set Comprehensions\n",
    "\n",
    "# Create a new set containing the squares of the first 10 positive integers\n",
    "#  using a set comprehension. Print the new set.\n",
    "\n",
    "set_square = {num**2 for num in range(1,11)}\n",
    "print(set_square)"
   ]
  },
  {
   "cell_type": "code",
   "execution_count": 46,
   "id": "2ccb4b0c",
   "metadata": {},
   "outputs": [],
   "source": [
    "\n",
    "### Assignment 5: Filtering Sets\n",
    "\n",
    "# Create a new set containing only the even numbers from the set created in \n",
    "# Assignment 1 using a set comprehension. Print the new set.\n"
   ]
  },
  {
   "cell_type": "code",
   "execution_count": 6,
   "id": "4777f91e",
   "metadata": {},
   "outputs": [],
   "source": [
    "### Assignment 6: Set Methods\n",
    "\n",
    "# Create a set with duplicate elements and remove the duplicates using\n",
    "#  set methods. Print the modified set.\n"
   ]
  },
  {
   "cell_type": "code",
   "execution_count": 7,
   "id": "decfc834",
   "metadata": {},
   "outputs": [],
   "source": [
    "\n",
    "### Assignment 7: Subsets and Supersets\n",
    "\n",
    "# Create two sets: one with the first 5 positive integers and another with \n",
    "# the first 3 positive integers. Check if the second set is a subset of the \n",
    "# first set and if the first set is a superset of the second set. Print the results.\n",
    "\n"
   ]
  },
  {
   "cell_type": "code",
   "execution_count": 8,
   "id": "c8b1fc4c",
   "metadata": {},
   "outputs": [],
   "source": [
    "### Assignment 8: Frozenset\n",
    "\n",
    "# Create a frozenset with the first 5 positive integers. Print the frozenset.\n",
    "\n"
   ]
  },
  {
   "cell_type": "code",
   "execution_count": 9,
   "id": "9df48b3e",
   "metadata": {},
   "outputs": [],
   "source": [
    "### Assignment 9: Set and List Conversion\n",
    "\n",
    "# Create a set with the first 5 positive integers. Convert it to a list, append \n",
    "# the number 6, and convert it back to a set. Print the resulting set.\n",
    "\n"
   ]
  },
  {
   "cell_type": "code",
   "execution_count": 10,
   "id": "e56889d7",
   "metadata": {},
   "outputs": [],
   "source": [
    "### Assignment 10: Set and Dictionary\n",
    "\n",
    "# Create a dictionary with set keys and integer values. Print the dictionary.\n",
    "\n"
   ]
  },
  {
   "cell_type": "code",
   "execution_count": 11,
   "id": "5c043276",
   "metadata": {},
   "outputs": [],
   "source": [
    "### Assignment 11: Iterating Over Sets\n",
    "\n",
    "# Create a set and iterate over the elements, printing each element.\n",
    "\n"
   ]
  },
  {
   "cell_type": "code",
   "execution_count": 12,
   "id": "6786a02d",
   "metadata": {},
   "outputs": [],
   "source": [
    "### Assignment 12: Removing Elements from Sets\n",
    "\n",
    "# Create a set and remove elements from it until it is empty. Print the set after each removal.\n",
    "\n"
   ]
  },
  {
   "cell_type": "code",
   "execution_count": 13,
   "id": "fe0e3fdb",
   "metadata": {},
   "outputs": [],
   "source": [
    "### Assignment 13: Set Symmetric Difference Update\n",
    "\n",
    "# Create two sets and update the first set with the symmetric difference of the\n",
    "#  two sets. Print the modified first set.\n",
    "\n"
   ]
  },
  {
   "cell_type": "code",
   "execution_count": 14,
   "id": "3b9b91f7",
   "metadata": {},
   "outputs": [],
   "source": [
    "### Assignment 14: Set Membership Testing\n",
    "\n",
    "# Create a set and test if certain elements are present in the set. Print the results.\n"
   ]
  },
  {
   "cell_type": "code",
   "execution_count": null,
   "id": "b158cd71",
   "metadata": {},
   "outputs": [],
   "source": [
    "\n",
    "### Assignment 15: Set of Tuples\n",
    "\n",
    "# Create a set containing tuples, where each tuple contains two elements. Print the set."
   ]
  }
 ],
 "metadata": {
  "kernelspec": {
   "display_name": "Python 3",
   "language": "python",
   "name": "python3"
  },
  "language_info": {
   "codemirror_mode": {
    "name": "ipython",
    "version": 3
   },
   "file_extension": ".py",
   "mimetype": "text/x-python",
   "name": "python",
   "nbconvert_exporter": "python",
   "pygments_lexer": "ipython3",
   "version": "3.12.0"
  }
 },
 "nbformat": 4,
 "nbformat_minor": 5
}
