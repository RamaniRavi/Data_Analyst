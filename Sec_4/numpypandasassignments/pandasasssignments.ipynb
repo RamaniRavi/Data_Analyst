{
 "cells": [
  {
   "cell_type": "markdown",
   "metadata": {},
   "source": [
    "# Module: Pandas Assignments\n",
    "## Lesson: Pandas\n",
    "### Assignment 1: DataFrame Creation and Indexing\n",
    "\n",
    "1. Create a Pandas DataFrame with 4 columns and 6 rows filled with random integers. Set the index to be the first column.\n",
    "2. Create a Pandas DataFrame with columns 'A', 'B', 'C' and index 'X', 'Y', 'Z'. Fill the DataFrame with random integers and access the element at row 'Y' and column 'B'.\n",
    "\n",
    "### Assignment 2: DataFrame Operations\n",
    "\n",
    "1. Create a Pandas DataFrame with 3 columns and 5 rows filled with random integers. Add a new column that is the product of the first two columns.\n",
    "2. Create a Pandas DataFrame with 3 columns and 4 rows filled with random integers. Compute the row-wise and column-wise sum.\n",
    "\n",
    "### Assignment 3: Data Cleaning\n",
    "\n",
    "1. Create a Pandas DataFrame with 3 columns and 5 rows filled with random integers. Introduce some NaN values. Fill the NaN values with the mean of the respective columns.\n",
    "2. Create a Pandas DataFrame with 4 columns and 6 rows filled with random integers. Introduce some NaN values. Drop the rows with any NaN values.\n",
    "\n",
    "### Assignment 4: Data Aggregation\n",
    "\n",
    "1. Create a Pandas DataFrame with 2 columns: 'Category' and 'Value'. Fill the 'Category' column with random categories ('A', 'B', 'C') and the 'Value' column with random integers. Group the DataFrame by 'Category' and compute the sum and mean of 'Value' for each category.\n",
    "2. Create a Pandas DataFrame with 3 columns: 'Product', 'Category', and 'Sales'. Fill the DataFrame with random data. Group the DataFrame by 'Category' and compute the total sales for each category.\n",
    "\n",
    "### Assignment 5: Merging DataFrames\n",
    "\n",
    "1. Create two Pandas DataFrames with a common column. Merge the DataFrames using the common column.\n",
    "2. Create two Pandas DataFrames with different columns. Concatenate the DataFrames along the rows and along the columns.\n",
    "\n",
    "### Assignment 6: Time Series Analysis\n",
    "\n",
    "1. Create a Pandas DataFrame with a datetime index and one column filled with random integers. Resample the DataFrame to compute the monthly mean of the values.\n",
    "2. Create a Pandas DataFrame with a datetime index ranging from '2021-01-01' to '2021-12-31' and one column filled with random integers. Compute the rolling mean with a window of 7 days.\n",
    "\n",
    "### Assignment 7: MultiIndex DataFrame\n",
    "\n",
    "1. Create a Pandas DataFrame with a MultiIndex (hierarchical index). Perform some basic indexing and slicing operations on the MultiIndex DataFrame.\n",
    "2. Create a Pandas DataFrame with MultiIndex consisting of 'Category' and 'SubCategory'. Fill the DataFrame with random data and compute the sum of values for each 'Category' and 'SubCategory'.\n",
    "\n",
    "### Assignment 8: Pivot Tables\n",
    "\n",
    "1. Create a Pandas DataFrame with columns 'Date', 'Category', and 'Value'. Create a pivot table to compute the sum of 'Value' for each 'Category' by 'Date'.\n",
    "2. Create a Pandas DataFrame with columns 'Year', 'Quarter', and 'Revenue'. Create a pivot table to compute the mean 'Revenue' for each 'Quarter' by 'Year'.\n",
    "\n",
    "### Assignment 9: Applying Functions\n",
    "\n",
    "1. Create a Pandas DataFrame with 3 columns and 5 rows filled with random integers. Apply a function that doubles the values of the DataFrame.\n",
    "2. Create a Pandas DataFrame with 3 columns and 6 rows filled with random integers. Apply a lambda function to create a new column that is the sum of the existing columns.\n",
    "\n",
    "### Assignment 10: Working with Text Data\n",
    "\n",
    "1. Create a Pandas Series with 5 random text strings. Convert all the strings to uppercase.\n",
    "2. Create a Pandas Series with 5 random text strings. Extract the first three characters of each string.\n"
   ]
  },
  {
   "cell_type": "code",
   "execution_count": 1,
   "metadata": {},
   "outputs": [],
   "source": [
    "# # Module: Pandas Assignments\n",
    "# ## Lesson: Pandas\n",
    "# ### Assignment 1: DataFrame Creation and Indexing\n",
    "\n",
    "# 1. Create a Pandas DataFrame with 4 columns and 6 rows filled with random integers. \n",
    "# Set the index to be the first column.\n",
    "# 2. Create a Pandas DataFrame with columns 'A', 'B', 'C' and index 'X', 'Y', 'Z'.\n",
    "#  Fill the DataFrame with random integers and access the element at row 'Y' and column 'B'.\n",
    "\n",
    "\n"
   ]
  },
  {
   "cell_type": "code",
   "execution_count": 2,
   "id": "1f9ab7ca",
   "metadata": {},
   "outputs": [],
   "source": [
    "# ### Assignment 2: DataFrame Operations\n",
    "\n",
    "# 1. Create a Pandas DataFrame with 3 columns and 5 rows filled with random integers. \n",
    "# Add a new column that is the product of the first two columns.\n",
    "# 2. Create a Pandas DataFrame with 3 columns and 4 rows filled with random integers. \n",
    "# Compute the row-wise and column-wise sum.\n",
    "\n"
   ]
  },
  {
   "cell_type": "code",
   "execution_count": 3,
   "id": "4f6b1846",
   "metadata": {},
   "outputs": [],
   "source": [
    "# ### Assignment 3: Data Cleaning\n",
    "\n",
    "# 1. Create a Pandas DataFrame with 3 columns and 5 rows filled with random integers. \n",
    "# Introduce some NaN values. Fill the NaN values with the mean of the respective columns.\n",
    "# 2. Create a Pandas DataFrame with 4 columns and 6 rows filled with random integers. \n",
    "# Introduce some NaN values. Drop the rows with any NaN values.\n"
   ]
  },
  {
   "cell_type": "code",
   "execution_count": 4,
   "id": "2b557216",
   "metadata": {},
   "outputs": [],
   "source": [
    "\n",
    "# ### Assignment 4: Data Aggregation\n",
    "\n",
    "# 1. Create a Pandas DataFrame with 2 columns: 'Category' and 'Value'. Fill the 'Category' \n",
    "# column with random categories ('A', 'B', 'C') and the 'Value' column with random integers. \n",
    "# Group the DataFrame by 'Category' and compute the sum and mean of 'Value' for each category.\n",
    "# 2. Create a Pandas DataFrame with 3 columns: 'Product', 'Category', and 'Sales'. Fill \n",
    "# the DataFrame with random data. Group the DataFrame by 'Category' and compute \n",
    "# the total sales for each category.\n",
    "\n"
   ]
  },
  {
   "cell_type": "code",
   "execution_count": 5,
   "id": "528167ce",
   "metadata": {},
   "outputs": [],
   "source": [
    "# ### Assignment 5: Merging DataFrames\n",
    "\n",
    "# 1. Create two Pandas DataFrames with a common column. Merge the DataFrames \n",
    "# using the common column.\n",
    "# 2. Create two Pandas DataFrames with different columns. Concatenate the DataFrames\n",
    "#  along the rows and along the columns.\n",
    "\n"
   ]
  },
  {
   "cell_type": "code",
   "execution_count": 6,
   "id": "74bf5786",
   "metadata": {},
   "outputs": [],
   "source": [
    "# ### Assignment 6: Time Series Analysis\n",
    "\n",
    "# 1. Create a Pandas DataFrame with a datetime index and one column filled with random\n",
    "#  integers. Resample the DataFrame to compute the monthly mean of the values.\n",
    "# 2. Create a Pandas DataFrame with a datetime index ranging from '2021-01-01' to '2021-12-31' \n",
    "# and one column filled with random integers. Compute the rolling mean with a window of 7 days.\n",
    "\n"
   ]
  },
  {
   "cell_type": "code",
   "execution_count": 7,
   "id": "aaae5a58",
   "metadata": {},
   "outputs": [],
   "source": [
    "# ### Assignment 7: MultiIndex DataFrame\n",
    "\n",
    "# 1. Create a Pandas DataFrame with a MultiIndex (hierarchical index). Perform some basic \n",
    "# indexing and slicing operations on the MultiIndex DataFrame.\n",
    "# 2. Create a Pandas DataFrame with MultiIndex consisting of 'Category' and 'SubCategory'.\n",
    "#  Fill the DataFrame with random data and compute the sum of values for each 'Category' and 'SubCategory'.\n",
    "\n"
   ]
  },
  {
   "cell_type": "code",
   "execution_count": 8,
   "id": "0099c26c",
   "metadata": {},
   "outputs": [],
   "source": [
    "# ### Assignment 8: Pivot Tables\n",
    "\n",
    "# 1. Create a Pandas DataFrame with columns 'Date', 'Category', and 'Value'. \n",
    "# Create a pivot table to compute the sum of 'Value' for each 'Category' by 'Date'.\n",
    "# 2. Create a Pandas DataFrame with columns 'Year', 'Quarter', and 'Revenue'.\n",
    "#  Create a pivot table to compute the mean 'Revenue' for each 'Quarter' by 'Year'.\n",
    "\n"
   ]
  },
  {
   "cell_type": "code",
   "execution_count": 9,
   "id": "ac295a7d",
   "metadata": {},
   "outputs": [],
   "source": [
    "# ### Assignment 9: Applying Functions\n",
    "\n",
    "# 1. Create a Pandas DataFrame with 3 columns and 5 rows filled with random integers. \n",
    "# Apply a function that doubles the values of the DataFrame.\n",
    "# 2. Create a Pandas DataFrame with 3 columns and 6 rows filled with random integers. \n",
    "# Apply a lambda function to create a new column that is the sum of the existing columns.\n",
    "\n"
   ]
  },
  {
   "cell_type": "code",
   "execution_count": null,
   "id": "fca3cb72",
   "metadata": {},
   "outputs": [],
   "source": [
    "# ### Assignment 10: Working with Text Data\n",
    "\n",
    "# 1. Create a Pandas Series with 5 random text strings. Convert all the strings to uppercase.\n",
    "# 2. Create a Pandas Series with 5 random text strings. Extract the first three characters of each string."
   ]
  }
 ],
 "metadata": {
  "kernelspec": {
   "display_name": "Python 3",
   "language": "python",
   "name": "python3"
  },
  "language_info": {
   "codemirror_mode": {
    "name": "ipython",
    "version": 3
   },
   "file_extension": ".py",
   "mimetype": "text/x-python",
   "name": "python",
   "nbconvert_exporter": "python",
   "pygments_lexer": "ipython3",
   "version": "3.12.0"
  }
 },
 "nbformat": 4,
 "nbformat_minor": 5
}
